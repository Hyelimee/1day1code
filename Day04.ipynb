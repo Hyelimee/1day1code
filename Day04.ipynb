{
  "nbformat": 4,
  "nbformat_minor": 0,
  "metadata": {
    "colab": {
      "provenance": [],
      "authorship_tag": "ABX9TyMXjwggrcMoqJakKtJH5SrG",
      "include_colab_link": true
    },
    "kernelspec": {
      "name": "python3",
      "display_name": "Python 3"
    },
    "language_info": {
      "name": "python"
    }
  },
  "cells": [
    {
      "cell_type": "markdown",
      "metadata": {
        "id": "view-in-github",
        "colab_type": "text"
      },
      "source": [
        "<a href=\"https://colab.research.google.com/github/Hyelimee/1day1code/blob/main/Day04.ipynb\" target=\"_parent\"><img src=\"https://colab.research.google.com/assets/colab-badge.svg\" alt=\"Open In Colab\"/></a>"
      ]
    },
    {
      "cell_type": "code",
      "execution_count": 1,
      "metadata": {
        "colab": {
          "base_uri": "https://localhost:8080/"
        },
        "id": "82Vs6oZb_MUc",
        "outputId": "0d6628fa-36b7-437c-d32e-f183043093fb"
      },
      "outputs": [
        {
          "output_type": "stream",
          "name": "stdout",
          "text": [
            "3\n",
            "6\n"
          ]
        }
      ],
      "source": [
        "'''\n",
        "input : n이 주어졌을 때, 1부터 n까지 합을 구하는 프로그램을 작성하시오\n",
        "output : 첫째줄에 n이 주어진다\n",
        "\n",
        "예시)\n",
        "input : 3\n",
        "output : 6\n",
        "'''\n",
        "\n",
        "num = 0\n",
        "n = int(input())\n",
        "\n",
        "for i in range(n+1):\n",
        "    num += i\n",
        "\n",
        "print(num)"
      ]
    },
    {
      "cell_type": "code",
      "source": [
        "import sys\n",
        "\n",
        "num = 0\n",
        "n = int(sys.stdin.readline())\n",
        "\n",
        "for i in range(n+1):\n",
        "    num += i\n",
        "\n",
        "print(num)"
      ],
      "metadata": {
        "id": "sn3VeKVHAcNH"
      },
      "execution_count": null,
      "outputs": []
    },
    {
      "cell_type": "code",
      "source": [
        "num = 0\n",
        "n = int(input())\n",
        "\n",
        "num += n*(n+1)/2\n",
        "\n",
        "print(int(num))"
      ],
      "metadata": {
        "colab": {
          "base_uri": "https://localhost:8080/"
        },
        "id": "3r5L9S2aA87N",
        "outputId": "378b5506-df99-4e2b-8bd9-4cdf52dce120"
      },
      "execution_count": 3,
      "outputs": [
        {
          "output_type": "stream",
          "name": "stdout",
          "text": [
            "5\n",
            "15\n"
          ]
        }
      ]
    }
  ]
}