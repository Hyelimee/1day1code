{
  "nbformat": 4,
  "nbformat_minor": 0,
  "metadata": {
    "colab": {
      "provenance": [],
      "authorship_tag": "ABX9TyMGR5/iXjtnx4Zo+gficCiX",
      "include_colab_link": true
    },
    "kernelspec": {
      "name": "python3",
      "display_name": "Python 3"
    },
    "language_info": {
      "name": "python"
    }
  },
  "cells": [
    {
      "cell_type": "markdown",
      "metadata": {
        "id": "view-in-github",
        "colab_type": "text"
      },
      "source": [
        "<a href=\"https://colab.research.google.com/github/Hyelimee/1day1code_basic/blob/main/Day21.ipynb\" target=\"_parent\"><img src=\"https://colab.research.google.com/assets/colab-badge.svg\" alt=\"Open In Colab\"/></a>"
      ]
    },
    {
      "cell_type": "code",
      "execution_count": 8,
      "metadata": {
        "colab": {
          "base_uri": "https://localhost:8080/"
        },
        "id": "1EwXnGig36PE",
        "outputId": "f7d8990f-acf6-4c3c-b325-b31b64daa663"
      },
      "outputs": [
        {
          "output_type": "stream",
          "name": "stdout",
          "text": [
            "122333444455555\n",
            "11060446\n"
          ]
        }
      ],
      "source": [
        "'''\n",
        "input : 첫째 줄에 정수 n이 주어진다\n",
        "output : 첫째 줄에 q2 >= n인 가장 작은 음이아닌 정수 q를 출력한다\n",
        "\n",
        "예제)\n",
        "input : 122333444455555\n",
        "output : 11060446\n",
        "'''\n",
        "import math\n",
        "\n",
        "n = int(input())\n",
        "q = math.ceil(n**0.5)\n",
        "#q = math.ceil(math.sqrt(n))\n",
        "\n",
        "if q**2 >= n:\n",
        "    print(q)\n",
        "else:\n",
        "    print(q+1)\n"
      ]
    }
  ]
}