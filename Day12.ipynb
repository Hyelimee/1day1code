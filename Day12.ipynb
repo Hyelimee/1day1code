{
  "nbformat": 4,
  "nbformat_minor": 0,
  "metadata": {
    "colab": {
      "provenance": [],
      "authorship_tag": "ABX9TyMDnNYvfl8zEo3nSUPDQ4th",
      "include_colab_link": true
    },
    "kernelspec": {
      "name": "python3",
      "display_name": "Python 3"
    },
    "language_info": {
      "name": "python"
    }
  },
  "cells": [
    {
      "cell_type": "markdown",
      "metadata": {
        "id": "view-in-github",
        "colab_type": "text"
      },
      "source": [
        "<a href=\"https://colab.research.google.com/github/Hyelimee/1day1code/blob/main/Day12.ipynb\" target=\"_parent\"><img src=\"https://colab.research.google.com/assets/colab-badge.svg\" alt=\"Open In Colab\"/></a>"
      ]
    },
    {
      "cell_type": "code",
      "execution_count": 33,
      "metadata": {
        "colab": {
          "base_uri": "https://localhost:8080/"
        },
        "id": "iAWJjg4_s9an",
        "outputId": "79fd2dc6-c27a-433c-9072-07e162c4cae3"
      },
      "outputs": [
        {
          "output_type": "stream",
          "name": "stdout",
          "text": [
            "216\n",
            "198\n"
          ]
        }
      ],
      "source": [
        "'''\n",
        "자연수 N이 주어졌을 때 N의 분해합은 N+N의 각 자리수 합을 말한다.\n",
        "어떤 자연수 M의 분해합이 N인 경우 M을 N의 생성자라고 한다.\n",
        "\n",
        "input : 첫째 줄에 자연수 N이 주어진다.\n",
        "output : 첫째 줄에 답을 출력한다. 생성자가 없는 경우에는 0을 출력한다.\n",
        "\n",
        "예시)\n",
        "input : 216\n",
        "output : 198\n",
        "\n",
        "'''\n",
        "\n",
        "'''\n",
        "분해합 만들기\n",
        "M: 생성자, N:분해합\n",
        "\n",
        "M = str(input())\n",
        "l = len(M)\n",
        "N = int(M)\n",
        "\n",
        "for i in range(l):\n",
        "    N += int(M[i])\n",
        "\n",
        "print(N)\n",
        "'''\n",
        "N = int(input()) # 분해합\n",
        "f = False\n",
        "\n",
        "for M in range(max(1, N - 9*len(str(N))), N): # M이 될수있는 범위를 제한\n",
        "    sum = 0\n",
        "    for i in range(len(str(M))):\n",
        "        sum += int(str(M)[i])  # 자리합 구하기\n",
        "    if M + sum == N :  # 생성자+자리합이 분해합과 동일한지 확인\n",
        "        print(M)\n",
        "        f = True\n",
        "        break\n",
        "\n",
        "if f == False:\n",
        "    print(0)\n"
      ]
    },
    {
      "cell_type": "code",
      "source": [],
      "metadata": {
        "id": "EIBGXjpma7Uo"
      },
      "execution_count": null,
      "outputs": []
    }
  ]
}