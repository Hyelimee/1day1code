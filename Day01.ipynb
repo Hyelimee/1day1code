{
  "nbformat": 4,
  "nbformat_minor": 0,
  "metadata": {
    "colab": {
      "provenance": [],
      "authorship_tag": "ABX9TyNfoHBrbqZl4xkAT1gtvKjW",
      "include_colab_link": true
    },
    "kernelspec": {
      "name": "python3",
      "display_name": "Python 3"
    },
    "language_info": {
      "name": "python"
    }
  },
  "cells": [
    {
      "cell_type": "markdown",
      "metadata": {
        "id": "view-in-github",
        "colab_type": "text"
      },
      "source": [
        "<a href=\"https://colab.research.google.com/github/Hyelimee/1day1code/blob/main/Day01.ipynb\" target=\"_parent\"><img src=\"https://colab.research.google.com/assets/colab-badge.svg\" alt=\"Open In Colab\"/></a>"
      ]
    },
    {
      "cell_type": "code",
      "execution_count": 5,
      "metadata": {
        "colab": {
          "base_uri": "https://localhost:8080/"
        },
        "id": "h0808BG7vaze",
        "outputId": "dde94b11-011c-4893-c4dc-f2a53a71fece"
      },
      "outputs": [
        {
          "output_type": "stream",
          "name": "stdout",
          "text": [
            "23 45 5678\n",
            "5746\n"
          ]
        }
      ],
      "source": [
        "'''\n",
        "input : 첫번째 줄에 A, B, C가 공백을 사이에 두고 주어진다\n",
        "output : A+B+C 값을 출력한다\n",
        "\n",
        "예시)\n",
        "input : 77 77 7777\n",
        "output : 7931\n",
        "'''\n",
        "\n",
        "def a(n):\n",
        "    b = n.split(' ')\n",
        "    b = map(int, b)\n",
        "    return sum(b)\n",
        "\n",
        "print(a(input()))\n"
      ]
    }
  ]
}