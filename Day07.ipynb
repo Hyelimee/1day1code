{
  "nbformat": 4,
  "nbformat_minor": 0,
  "metadata": {
    "colab": {
      "provenance": [],
      "authorship_tag": "ABX9TyNPiXnIWQ1anjdg6WMqFXBH",
      "include_colab_link": true
    },
    "kernelspec": {
      "name": "python3",
      "display_name": "Python 3"
    },
    "language_info": {
      "name": "python"
    }
  },
  "cells": [
    {
      "cell_type": "markdown",
      "metadata": {
        "id": "view-in-github",
        "colab_type": "text"
      },
      "source": [
        "<a href=\"https://colab.research.google.com/github/Hyelimee/1day1code/blob/main/Day07.ipynb\" target=\"_parent\"><img src=\"https://colab.research.google.com/assets/colab-badge.svg\" alt=\"Open In Colab\"/></a>"
      ]
    },
    {
      "cell_type": "code",
      "execution_count": 20,
      "metadata": {
        "colab": {
          "base_uri": "https://localhost:8080/"
        },
        "id": "Je8R4WDP14Yc",
        "outputId": "ac1abe18-2f47-43e1-898b-afaebe38c900"
      },
      "outputs": [
        {
          "output_type": "stream",
          "name": "stdout",
          "text": [
            "online\n",
            "0\n"
          ]
        }
      ],
      "source": [
        "'''\n",
        "input : 첫째 줄에 단어가 주어진다. 단어의 길이는 1보다 크거나 같고,\n",
        "        100보다 작거나 같으며, 알파벳 소문자로만 이루어져있다\n",
        "output : 첫째 줄에 펠린드롬이면 1, 아니면 0을 출력한다.\n",
        "\n",
        "예제)\n",
        "input : level\n",
        "output : 1\n",
        "'''\n",
        "\n",
        "word = input()\n",
        "T = 0\n",
        "\n",
        "for i in range(len(word) // 2):\n",
        "    if word[i] == word[-i-1]:\n",
        "        T += 1\n",
        "    else :\n",
        "        pass\n",
        "\n",
        "if T == (len(word) // 2):\n",
        "    print(1)\n",
        "else:\n",
        "    print(0)"
      ]
    }
  ]
}