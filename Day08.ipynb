{
  "nbformat": 4,
  "nbformat_minor": 0,
  "metadata": {
    "colab": {
      "provenance": [],
      "authorship_tag": "ABX9TyO2rgoguIdfqLe18MGFKfWB",
      "include_colab_link": true
    },
    "kernelspec": {
      "name": "python3",
      "display_name": "Python 3"
    },
    "language_info": {
      "name": "python"
    }
  },
  "cells": [
    {
      "cell_type": "markdown",
      "metadata": {
        "id": "view-in-github",
        "colab_type": "text"
      },
      "source": [
        "<a href=\"https://colab.research.google.com/github/Hyelimee/1day1code/blob/main/Day08.ipynb\" target=\"_parent\"><img src=\"https://colab.research.google.com/assets/colab-badge.svg\" alt=\"Open In Colab\"/></a>"
      ]
    },
    {
      "cell_type": "code",
      "execution_count": 16,
      "metadata": {
        "colab": {
          "base_uri": "https://localhost:8080/"
        },
        "id": "195y6qysX2Lx",
        "outputId": "9512d016-ca0f-459f-dd68-78f47496fce4"
      },
      "outputs": [
        {
          "output_type": "stream",
          "name": "stdout",
          "text": [
            "The last character is a blank \n",
            "['The', 'last', 'character', 'is', 'a', 'blank']\n",
            "6\n"
          ]
        }
      ],
      "source": [
        "'''\n",
        "input : 첫 줄에 영어 대소문자와 공백으로 이루어진 문자열이 주어진다.\n",
        "        이 문자열의 길이는 1,000,000을 넘지 않는다.\n",
        "        단어는 공백 한개로 구분되며, 공백이 연속해서 나오는 경우는 없다.\n",
        "        또한 문자열은 공백으로 시작하거나 끝날 수 있다.\n",
        "output : 첫째 줄에 단어의 개수를 출력한다\n",
        "\n",
        "예제)\n",
        "input : The Curious Case of Benjamin Button\n",
        "output : 6\n",
        "'''\n",
        "\n",
        "s = input()\n",
        "a = s.split(' ')\n",
        "a = [i for i in a if i != '']\n",
        "#print(a)\n",
        "print(len(a))"
      ]
    },
    {
      "cell_type": "code",
      "source": [],
      "metadata": {
        "id": "s4SMYTHWYsjd"
      },
      "execution_count": null,
      "outputs": []
    }
  ]
}