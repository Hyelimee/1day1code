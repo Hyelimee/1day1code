{
  "nbformat": 4,
  "nbformat_minor": 0,
  "metadata": {
    "colab": {
      "provenance": [],
      "authorship_tag": "ABX9TyOdrswFh+lRdW3oXEyxUnZJ",
      "include_colab_link": true
    },
    "kernelspec": {
      "name": "python3",
      "display_name": "Python 3"
    },
    "language_info": {
      "name": "python"
    }
  },
  "cells": [
    {
      "cell_type": "markdown",
      "metadata": {
        "id": "view-in-github",
        "colab_type": "text"
      },
      "source": [
        "<a href=\"https://colab.research.google.com/github/Hyelimee/1day1code/blob/main/Day18.ipynb\" target=\"_parent\"><img src=\"https://colab.research.google.com/assets/colab-badge.svg\" alt=\"Open In Colab\"/></a>"
      ]
    },
    {
      "cell_type": "code",
      "execution_count": 7,
      "metadata": {
        "colab": {
          "base_uri": "https://localhost:8080/"
        },
        "id": "a0yKnu5bkFPl",
        "outputId": "99e87195-7a0a-41de-8b9a-6deb6514a79c"
      },
      "outputs": [
        {
          "output_type": "stream",
          "name": "stdout",
          "text": [
            "10\n",
            "55\n"
          ]
        }
      ],
      "source": [
        "'''\n",
        "input : 첫째 줄에 n이 주어진다. n은 45보다 같거나 작은 자연수이다.\n",
        "output : 첫째 줄에 n번째 피보나치 수를 출력한다.\n",
        "\n",
        "예제)\n",
        "input : 10\n",
        "output : 55\n",
        "'''\n",
        "#리스트\n",
        "n = int(input())\n",
        "\n",
        "fib = [0, 1]\n",
        "\n",
        "for i in range(2, n+1):\n",
        "    fib.append(fib[i-1] + fib[i-2])\n",
        "\n",
        "print(fib[n])"
      ]
    },
    {
      "cell_type": "code",
      "source": [
        "#딕셔너리\n",
        "n = int(input())\n",
        "\n",
        "fib = {}\n",
        "fib[0] = 0\n",
        "fib[1] = 1\n",
        "\n",
        "for i in range(2, n+1):\n",
        "    fib[i] = fib[i-1] + fib[i-2]\n",
        "\n",
        "print(fib[n])"
      ],
      "metadata": {
        "id": "PdYnEiVOpzNC"
      },
      "execution_count": null,
      "outputs": []
    }
  ]
}