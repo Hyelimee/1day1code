{
  "nbformat": 4,
  "nbformat_minor": 0,
  "metadata": {
    "colab": {
      "provenance": [],
      "authorship_tag": "ABX9TyOrNmanxLhq7vqTcTWVk3GY",
      "include_colab_link": true
    },
    "kernelspec": {
      "name": "python3",
      "display_name": "Python 3"
    },
    "language_info": {
      "name": "python"
    }
  },
  "cells": [
    {
      "cell_type": "markdown",
      "metadata": {
        "id": "view-in-github",
        "colab_type": "text"
      },
      "source": [
        "<a href=\"https://colab.research.google.com/github/Hyelimee/1day1code/blob/main/Day19.ipynb\" target=\"_parent\"><img src=\"https://colab.research.google.com/assets/colab-badge.svg\" alt=\"Open In Colab\"/></a>"
      ]
    },
    {
      "cell_type": "code",
      "execution_count": 6,
      "metadata": {
        "colab": {
          "base_uri": "https://localhost:8080/"
        },
        "id": "UyNCwXWZMTXM",
        "outputId": "e3ec90aa-255a-4528-e630-c960cb48faf3"
      },
      "outputs": [
        {
          "output_type": "stream",
          "name": "stdout",
          "text": [
            "5\n",
            "8\n"
          ]
        }
      ],
      "source": [
        "'''\n",
        "input : 첫번째 줄에 자연수 N이 주어진다\n",
        "output : 첫번째 줄에 지원이가 만들 수 있는 길이가 N인 모든 2진 수열의 개수를 15746으로 나눈 나머지를 출력한다\n",
        "\n",
        "예제)\n",
        "input : 4\n",
        "output : 5\n",
        "'''\n",
        "N = int(input())\n",
        "\n",
        "a = [1, 1]\n",
        "\n",
        "for i in range(2, N+1):\n",
        "    a.append((a[i-1] + a[i-2])%15746)\n",
        "\n",
        "print(a[N])\n"
      ]
    }
  ]
}